{
 "cells": [
  {
   "cell_type": "code",
   "execution_count": null,
   "id": "f49dd1ad-9f5b-4ef8-a8cd-f1d0d7606ca6",
   "metadata": {},
   "outputs": [],
   "source": []
  }
 ],
 "metadata": {
  "kernelspec": {
   "display_name": "",
   "name": ""
  },
  "language_info": {
   "name": ""
  }
 },
 "nbformat": 4,
 "nbformat_minor": 5
}
