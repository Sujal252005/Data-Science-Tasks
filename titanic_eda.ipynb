{
 "cells": [
  {
   "cell_type": "code",
   "execution_count": null,
   "id": "c4c6f3f6-f7b5-4268-86db-a2ffad556b2b",
   "metadata": {},
   "outputs": [],
   "source": []
  }
 ],
 "metadata": {
  "kernelspec": {
   "display_name": "",
   "name": ""
  },
  "language_info": {
   "name": ""
  }
 },
 "nbformat": 4,
 "nbformat_minor": 5
}
